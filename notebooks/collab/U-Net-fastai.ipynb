{
 "cells": [
  {
   "cell_type": "markdown",
   "metadata": {},
   "source": [
    "# Connect to the drive to get the data"
   ]
  },
  {
   "cell_type": "code",
   "execution_count": null,
   "metadata": {
    "colab": {
     "base_uri": "https://localhost:8080/",
     "height": 122
    },
    "colab_type": "code",
    "id": "PJlQ_DUXVycm",
    "outputId": "863f14bf-b6b1-4bde-dbf1-1506d8bf6d4d"
   },
   "outputs": [],
   "source": [
    "from google.colab import drive\n",
    "drive.mount('/content/drive')"
   ]
  },
  {
   "cell_type": "markdown",
   "metadata": {},
   "source": [
    "Sometimes it's needed to hard reset the machine using command below."
   ]
  },
  {
   "cell_type": "code",
   "execution_count": null,
   "metadata": {
    "colab": {},
    "colab_type": "code",
    "id": "8yOXaxxb_tYH"
   },
   "outputs": [],
   "source": [
    "!kill -9 -1"
   ]
  },
  {
   "cell_type": "markdown",
   "metadata": {},
   "source": [
    "Check how much RAM on GPU is available "
   ]
  },
  {
   "cell_type": "code",
   "execution_count": null,
   "metadata": {
    "colab": {
     "base_uri": "https://localhost:8080/",
     "height": 258
    },
    "colab_type": "code",
    "id": "f3GspQkHdX3j",
    "outputId": "9a0153c0-a1e6-43c2-d829-cffe501658cf"
   },
   "outputs": [],
   "source": [
    "!ln -sf /opt/bin/nvidia-smi /usr/bin/nvidia-smi\n",
    "!pip install gputil\n",
    "!pip install psutil\n",
    "!pip install humanize\n",
    "import psutil\n",
    "import humanize\n",
    "import os\n",
    "import GPUtil as GPU\n",
    "GPUs = GPU.getGPUs()\n",
    "\n",
    "# XXX: only one GPU on Colab and isn’t guaranteed\n",
    "gpu = GPUs[0]\n",
    "\n",
    "def printm():\n",
    "    process = psutil.Process(os.getpid())\n",
    "    print(\"Gen RAM Free: \" + humanize.naturalsize( psutil.virtual_memory().available ), \" | Proc size: \" + humanize.naturalsize( process.memory_info().rss))\n",
    "    print(\"GPU RAM Free: {0:.0f}MB | Used: {1:.0f}MB | Util {2:3.0f}% | Total {3:.0f}MB\".format(gpu.memoryFree, gpu.memoryUsed, gpu.memoryUtil*100, gpu.memoryTotal))\n",
    "\n",
    "    printm()"
   ]
  },
  {
   "cell_type": "markdown",
   "metadata": {},
   "source": [
    "# Install deps"
   ]
  },
  {
   "cell_type": "code",
   "execution_count": null,
   "metadata": {
    "colab": {
     "base_uri": "https://localhost:8080/",
     "height": 1669
    },
    "colab_type": "code",
    "id": "q7XhZI_lYaRR",
    "outputId": "b3aae066-003b-49c6-9073-efe486a6a4f5"
   },
   "outputs": [],
   "source": [
    "!curl https://course-v3.fast.ai/setup/colab | bash"
   ]
  },
  {
   "cell_type": "code",
   "execution_count": null,
   "metadata": {
    "colab": {
     "base_uri": "https://localhost:8080/",
     "height": 102
    },
    "colab_type": "code",
    "id": "YGO4YeggV3hs",
    "outputId": "bd68d60c-0ebd-4526-a8f6-6064e309188c"
   },
   "outputs": [],
   "source": [
    "!pip install pydicom"
   ]
  },
  {
   "cell_type": "code",
   "execution_count": null,
   "metadata": {},
   "outputs": [],
   "source": []
  },
  {
   "cell_type": "code",
   "execution_count": null,
   "metadata": {
    "colab": {},
    "colab_type": "code",
    "id": "ctZmmW5xXVft"
   },
   "outputs": [],
   "source": [
    "import os\n",
    "import re\n",
    "\n",
    "import numpy as np\n",
    "import pydicom\n",
    "import matplotlib.pyplot as plt\n",
    "\n",
    "from fastai import *\n",
    "from fastai.vision import *\n",
    "import cv2\n",
    "\n",
    "from fastai.layers import FlattenedLoss"
   ]
  },
  {
   "cell_type": "markdown",
   "metadata": {
    "colab_type": "text",
    "id": "1ql-Zg_aCCln"
   },
   "source": [
    "Copy data from drive to the filesystem - this might make things faster.\n",
    "Note: from time to time you need to update compressed file."
   ]
  },
  {
   "cell_type": "code",
   "execution_count": null,
   "metadata": {
    "colab": {},
    "colab_type": "code",
    "id": "tqQqeR7oV5Qe"
   },
   "outputs": [],
   "source": [
    "drive_data_path = './drive/My Drive/Data/'\n",
    "data_path = './data'"
   ]
  },
  {
   "cell_type": "code",
   "execution_count": null,
   "metadata": {
    "colab": {},
    "colab_type": "code",
    "id": "TEjxpIvgIik_"
   },
   "outputs": [],
   "source": [
    "!cp ./drive/My\\ Drive/data.tar.gz ."
   ]
  },
  {
   "cell_type": "code",
   "execution_count": null,
   "metadata": {
    "colab": {},
    "colab_type": "code",
    "id": "6B013lKw4Puc"
   },
   "outputs": [],
   "source": [
    "!tar xzf data.tar.gz"
   ]
  },
  {
   "cell_type": "code",
   "execution_count": null,
   "metadata": {
    "colab": {},
    "colab_type": "code",
    "id": "TWVNkRWzWi2g"
   },
   "outputs": [],
   "source": [
    "scans = []\n",
    "for root, dirs, files in os.walk(data_path):\n",
    "    if 'CT' in root:\n",
    "        # remove wrongly labeled data\n",
    "        if not 'P1B1' in root:\n",
    "            for _file in files:\n",
    "                scans.append(root + '/' + _file)"
   ]
  },
  {
   "cell_type": "code",
   "execution_count": null,
   "metadata": {
    "colab": {},
    "colab_type": "code",
    "id": "euPyWfK-XUM7"
   },
   "outputs": [],
   "source": [
    "np.random.seed(42)\n",
    "np.random.shuffle(scans)"
   ]
  },
  {
   "cell_type": "markdown",
   "metadata": {
    "colab_type": "text",
    "id": "wZTOMc5sg4oU"
   },
   "source": [
    "Overwrite fastai loading images methods"
   ]
  },
  {
   "cell_type": "code",
   "execution_count": null,
   "metadata": {
    "colab": {},
    "colab_type": "code",
    "id": "jULG_UiAYBp5"
   },
   "outputs": [],
   "source": [
    "def open_dcm_image(fn, *args, **kwargs)->Image:\n",
    "#     window_min = -100\n",
    "#     window_max = 400\n",
    "    window_min = -100\n",
    "    window_max = 100\n",
    "\n",
    "    array = pydicom.dcmread(fn).pixel_array\n",
    "    array = np.clip(array, a_min=window_min, a_max=window_max)\n",
    "            \n",
    "    array = (((array - array.min()) / (array.max() - array.min())) * (255 - 0) + 0).astype(np.uint8)\n",
    "    array = cv2.equalizeHist(array.astype(np.uint8))\n",
    "\n",
    "    array = np.repeat(array[:, :, None], 3, axis=2)\n",
    "    \n",
    "    # we can store images in this format :top: to make stuff faster...\n",
    "    return Image(pil2tensor(array, np.float32).div_(255))\n",
    "\n",
    "def open_dcm_mask(fn, *args, **kwargs)->Image:\n",
    "    x = pydicom.dcmread(fn).pixel_array\n",
    "    x = pil2tensor(x, np.float32)\n",
    "    return ImageSegment(x)\n",
    "\n",
    "\n",
    "def annotate_metadata(fn, ax):\n",
    "    subdirs = fn.split('/')\n",
    "    patient_id = subdirs[-3]\n",
    "    slice_number = re.findall(r'\\d+', subdirs[-1])[0]\n",
    "    ax.annotate(\n",
    "        '{} [{}]'.format(patient_id, slice_number),\n",
    "        xy=(.25, .25),\n",
    "        xycoords='data', \n",
    "        xytext=(30, 10),\n",
    "        fontsize=20,\n",
    "        textcoords='offset points',\n",
    "    )\n",
    "\n",
    "                                  \n",
    "# monkey patch\n",
    "fastai.vision.image.open_image = open_dcm_image\n",
    "fastai.vision.image.open_mask = open_dcm_mask\n",
    "fastai.vision.data.open_image = open_dcm_image\n",
    "fastai.vision.data.open_mask = open_dcm_mask\n",
    "open_image = open_dcm_image\n",
    "open_mask = open_dcm_mask"
   ]
  },
  {
   "cell_type": "markdown",
   "metadata": {},
   "source": [
    "# Look at the data"
   ]
  },
  {
   "cell_type": "code",
   "execution_count": null,
   "metadata": {
    "colab": {
     "base_uri": "https://localhost:8080/",
     "height": 529
    },
    "colab_type": "code",
    "id": "3j5u0kwQwkDQ",
    "outputId": "35b6bc37-9bcd-4f86-e15e-83e35aeb5bac"
   },
   "outputs": [],
   "source": [
    "open_image(scans[1003])"
   ]
  },
  {
   "cell_type": "code",
   "execution_count": null,
   "metadata": {
    "colab": {
     "base_uri": "https://localhost:8080/",
     "height": 529
    },
    "colab_type": "code",
    "id": "vGsKiT0_ySYt",
    "outputId": "a763aafa-d7f7-4912-dc9b-3832623937cd"
   },
   "outputs": [],
   "source": [
    "get_y_fn = lambda path: str('.' / Path(path).parent / '../label' / Path(path).name)\n",
    "\n",
    "open_mask(get_y_fn(scans[1003]))"
   ]
  },
  {
   "cell_type": "code",
   "execution_count": null,
   "metadata": {
    "colab": {},
    "colab_type": "code",
    "id": "XeEWqbH0_Y3v"
   },
   "outputs": [],
   "source": [
    "codes = ['void', 'water']"
   ]
  },
  {
   "cell_type": "code",
   "execution_count": null,
   "metadata": {
    "colab": {
     "base_uri": "https://localhost:8080/",
     "height": 340
    },
    "colab_type": "code",
    "id": "Ajy7ArRdoV-9",
    "outputId": "85d1b7fd-1520-4f56-c94e-47934c665db5"
   },
   "outputs": [],
   "source": [
    "src = (\n",
    "    SegmentationItemList.from_df(pd.DataFrame(scans, columns=['files']), '.')\n",
    "    .split_by_valid_func(lambda img_src: 'P7' in str(img_src) or 'P6' in str(img_src))\n",
    "    .label_from_func(get_y_fn, classes=codes)\n",
    ")\n",
    "src"
   ]
  },
  {
   "cell_type": "code",
   "execution_count": null,
   "metadata": {
    "colab": {
     "base_uri": "https://localhost:8080/",
     "height": 34
    },
    "colab_type": "code",
    "id": "y6HpVo344Lg7",
    "outputId": "5b6c9ee0-def5-484e-9a20-33fa3fb43e9f"
   },
   "outputs": [],
   "source": [
    "img = open_image(scans[600]).data\n",
    "src_size = np.array(img.shape[1:])\n",
    "size = src_size // 4\n",
    "size"
   ]
  },
  {
   "cell_type": "code",
   "execution_count": null,
   "metadata": {
    "colab": {},
    "colab_type": "code",
    "id": "avZ7Q7Tq464-"
   },
   "outputs": [],
   "source": [
    "bs = 80"
   ]
  },
  {
   "cell_type": "code",
   "execution_count": null,
   "metadata": {
    "colab": {},
    "colab_type": "code",
    "id": "DvCXk0uHsYsK"
   },
   "outputs": [],
   "source": [
    "data = (\n",
    "    # note wrap might deform images. For now I've set up 0, maybe we can use it.\n",
    "    src.transform(get_transforms(max_rotate=5., max_lighting=0, p_lighting=0, max_warp=0), size=size, tfm_y=True)\n",
    "    .databunch(bs=bs)\n",
    "    .normalize(imagenet_stats)\n",
    ")"
   ]
  },
  {
   "cell_type": "code",
   "execution_count": null,
   "metadata": {
    "colab": {
     "base_uri": "https://localhost:8080/",
     "height": 543
    },
    "colab_type": "code",
    "id": "lyRm0tpJ3cme",
    "outputId": "fc400522-a393-449d-e2e5-bb5f37de038d"
   },
   "outputs": [],
   "source": [
    "data.show_batch(2, figsize=(10,7))"
   ]
  },
  {
   "cell_type": "code",
   "execution_count": null,
   "metadata": {
    "colab": {
     "base_uri": "https://localhost:8080/",
     "height": 577
    },
    "colab_type": "code",
    "id": "4sC6WI8k7r_H",
    "outputId": "8480fd1a-9c3e-43b9-e3a0-c8f32c9c0063"
   },
   "outputs": [],
   "source": [
    "data.show_batch(2, figsize=(10,7), ds_type=DatasetType.Valid)"
   ]
  },
  {
   "cell_type": "markdown",
   "metadata": {},
   "source": [
    "# Choose metrics to evaluate "
   ]
  },
  {
   "cell_type": "code",
   "execution_count": null,
   "metadata": {
    "colab": {},
    "colab_type": "code",
    "id": "XQu3fFfI-gUa"
   },
   "outputs": [],
   "source": [
    "from fastai.metrics import accuracy, dice"
   ]
  },
  {
   "cell_type": "code",
   "execution_count": null,
   "metadata": {
    "colab": {},
    "colab_type": "code",
    "id": "OYhtH_fQNzZr"
   },
   "outputs": [],
   "source": [
    "def acc(input, target):\n",
    "    target = target.squeeze(1)\n",
    "    return (input.argmax(dim=1)==target).float().mean()"
   ]
  },
  {
   "cell_type": "code",
   "execution_count": null,
   "metadata": {
    "colab": {},
    "colab_type": "code",
    "id": "l5TxyI4c_dyl"
   },
   "outputs": [],
   "source": [
    "metrics=[acc, dice]"
   ]
  },
  {
   "cell_type": "markdown",
   "metadata": {},
   "source": [
    "# Implement new loss functions"
   ]
  },
  {
   "cell_type": "code",
   "execution_count": null,
   "metadata": {
    "colab": {},
    "colab_type": "code",
    "id": "eeeVgoU2x7n3"
   },
   "outputs": [],
   "source": [
    "from torch.nn.modules.loss import _Loss"
   ]
  },
  {
   "cell_type": "code",
   "execution_count": null,
   "metadata": {
    "colab": {},
    "colab_type": "code",
    "id": "oB3lb_53p-AQ"
   },
   "outputs": [],
   "source": [
    "class DiceLoss(_Loss):\n",
    "    def __init__(self, **kwargs):\n",
    "        super(DiceLoss, self).__init__(**kwargs)\n",
    "        self.softmax = nn.Softmax(1)\n",
    "\n",
    "    def forward(self, input, target):\n",
    "        input = self.softmax(input)[:, 1]\n",
    "        target = target.float()\n",
    "        smooth = 1.\n",
    "        intersection = (input * target).sum()\n",
    "\n",
    "        return 1 - ((2. * intersection + smooth) /\n",
    "                  (input.sum() + target.sum() + smooth))\n",
    "\n",
    "\n",
    "class GeneralizedDiceLoss(_Loss):\n",
    "    # reference: https://niftynet.readthedocs.io/en/dev/_modules/niftynet/layer/loss_segmentation.html#generalised_dice_loss\n",
    "    def __init__(self, **kwargs):\n",
    "        super(GeneralizedDiceLoss, self).__init__(**kwargs)\n",
    "        self.softmax = nn.Softmax(1)\n",
    "\n",
    "    def forward(self, input, target):\n",
    "        prediction = self.softmax(input)\n",
    "        one_hot = (\n",
    "            torch.sparse.torch.eye(2).cuda()\n",
    "            .index_select(0, target.long())\n",
    "        )\n",
    "          \n",
    "        ref_vol = torch.sum(one_hot, 0)\n",
    "        \n",
    "        seg_vol = torch.sum(prediction, 0)\n",
    "        intersect = torch.sum(one_hot * prediction, 0)\n",
    "        \n",
    "        weights = torch.reciprocal(ref_vol ** 2)\n",
    "        weights[weights == float(\"Inf\")] = 0\n",
    "\n",
    "        generalised_dice_numerator = 2 * torch.sum(weights * intersect)\n",
    "        generalised_dice_denominator = torch.sum(\n",
    "            weights * torch.max(seg_vol + ref_vol, torch.ones_like(weights))\n",
    "        )\n",
    "        generalised_dice_score = \\\n",
    "            generalised_dice_numerator / generalised_dice_denominator\n",
    "        \n",
    "        generalised_dice_score[torch.isnan(generalised_dice_score)] =  1.\n",
    "        return 1 - generalised_dice_score\n",
    "            \n",
    "dice_loss = FlattenedLoss(DiceLoss, axis=1)\n",
    "generalized_dice_loss = FlattenedLoss(GeneralizedDiceLoss, axis=1)"
   ]
  },
  {
   "cell_type": "code",
   "execution_count": null,
   "metadata": {
    "colab": {
     "base_uri": "https://localhost:8080/",
     "height": 34
    },
    "colab_type": "code",
    "id": "L8Su33Cv3520",
    "outputId": "1b111bfe-1dc2-4711-86a1-62de32e33739"
   },
   "outputs": [],
   "source": [
    "dice_loss(torch.Tensor([[10, 1], [10, 0]]), torch.Tensor([[1], [1]]))"
   ]
  },
  {
   "cell_type": "code",
   "execution_count": null,
   "metadata": {
    "colab": {
     "base_uri": "https://localhost:8080/",
     "height": 34
    },
    "colab_type": "code",
    "id": "BGIPKkLlvDhJ",
    "outputId": "50766f13-0508-4d8e-dde9-f0f4734ba9c0"
   },
   "outputs": [],
   "source": [
    "generalized_dice_loss(torch.Tensor([[10, 1], [10, 0]]).cuda(), torch.Tensor([[1], [1]]).cuda())"
   ]
  },
  {
   "cell_type": "markdown",
   "metadata": {},
   "source": [
    "# Train model"
   ]
  },
  {
   "cell_type": "code",
   "execution_count": null,
   "metadata": {},
   "outputs": [],
   "source": [
    "learn = unet_learner(\n",
    "    data, models.resnet34, metrics=metrics, \n",
    "    self_attention=False,\n",
    "    loss_func=generalized_dice_loss,\n",
    ")"
   ]
  },
  {
   "cell_type": "code",
   "execution_count": null,
   "metadata": {
    "colab": {
     "base_uri": "https://localhost:8080/",
     "height": 472
    },
    "colab_type": "code",
    "id": "UMKWcbMv_vIO",
    "outputId": "a371e4f9-13e8-4501-8de8-8769bc3673ec"
   },
   "outputs": [],
   "source": [
    "lr_find(learn)\n",
    "learn.recorder.plot()"
   ]
  },
  {
   "cell_type": "code",
   "execution_count": null,
   "metadata": {
    "colab": {},
    "colab_type": "code",
    "id": "8TS-47f7BzXP"
   },
   "outputs": [],
   "source": [
    "lr=3e-5"
   ]
  },
  {
   "cell_type": "code",
   "execution_count": null,
   "metadata": {
    "colab": {
     "base_uri": "https://localhost:8080/",
     "height": 315
    },
    "colab_type": "code",
    "id": "XbYEFK8VFugE",
    "outputId": "9016c8dc-1ea3-44a4-be19-bf464f1540ff"
   },
   "outputs": [],
   "source": [
    "learn.fit_one_cycle(10, slice(lr), pct_start=0.9)"
   ]
  },
  {
   "cell_type": "code",
   "execution_count": null,
   "metadata": {
    "colab": {},
    "colab_type": "code",
    "id": "9NXvGvPAFxJc"
   },
   "outputs": [],
   "source": [
    "learn.save('3_1')"
   ]
  },
  {
   "cell_type": "code",
   "execution_count": null,
   "metadata": {
    "colab": {},
    "colab_type": "code",
    "id": "DPavT20HS07i"
   },
   "outputs": [],
   "source": [
    "learn.load('3_1');"
   ]
  },
  {
   "cell_type": "code",
   "execution_count": null,
   "metadata": {
    "colab": {},
    "colab_type": "code",
    "id": "g4ugimoEVc1Z"
   },
   "outputs": [],
   "source": [
    "!cp ./models/3_1.pth ./drive/My\\ Drive/"
   ]
  },
  {
   "cell_type": "code",
   "execution_count": null,
   "metadata": {
    "colab": {
     "base_uri": "https://localhost:8080/",
     "height": 5061
    },
    "colab_type": "code",
    "id": "PBlkersCId9l",
    "outputId": "b9226b91-8868-42a9-9842-dc3e3575c1af"
   },
   "outputs": [],
   "source": [
    "learn.show_results(rows=20)"
   ]
  },
  {
   "cell_type": "code",
   "execution_count": null,
   "metadata": {
    "colab": {},
    "colab_type": "code",
    "id": "vI70lYTzImny"
   },
   "outputs": [],
   "source": [
    "learn.unfreeze()"
   ]
  },
  {
   "cell_type": "code",
   "execution_count": null,
   "metadata": {
    "colab": {
     "base_uri": "https://localhost:8080/",
     "height": 451
    },
    "colab_type": "code",
    "id": "-jwz5Ds3S8ny",
    "outputId": "4f78735b-6f51-42d8-ab50-35e87fe12967"
   },
   "outputs": [],
   "source": [
    "lr_find(learn)\n",
    "learn.recorder.plot()"
   ]
  },
  {
   "cell_type": "code",
   "execution_count": null,
   "metadata": {
    "colab": {},
    "colab_type": "code",
    "id": "z00QyZsLS-Qg"
   },
   "outputs": [],
   "source": [
    "lrs = slice(1e-6, 8e-5)"
   ]
  },
  {
   "cell_type": "code",
   "execution_count": null,
   "metadata": {
    "colab": {
     "base_uri": "https://localhost:8080/",
     "height": 1977
    },
    "colab_type": "code",
    "id": "vLchwPioTCaV",
    "outputId": "ead25253-6573-44a4-aeb3-3083e15daeca"
   },
   "outputs": [],
   "source": [
    "learn.fit_one_cycle(12, lrs, pct_start=0.8)"
   ]
  },
  {
   "cell_type": "code",
   "execution_count": null,
   "metadata": {
    "colab": {
     "base_uri": "https://localhost:8080/",
     "height": 361
    },
    "colab_type": "code",
    "id": "t1QAv4bWUPUD",
    "outputId": "2689756f-7acd-4e1c-8f5c-576009c38f16"
   },
   "outputs": [],
   "source": [
    "learn.recorder.plot_losses()"
   ]
  },
  {
   "cell_type": "code",
   "execution_count": null,
   "metadata": {
    "colab": {
     "base_uri": "https://localhost:8080/",
     "height": 347
    },
    "colab_type": "code",
    "id": "orjcIPcBW-6K",
    "outputId": "c83ffda3-73eb-42ec-a449-f4b1ef89ad2c"
   },
   "outputs": [],
   "source": [
    "learn.recorder.plot_lr()"
   ]
  },
  {
   "cell_type": "code",
   "execution_count": null,
   "metadata": {
    "colab": {},
    "colab_type": "code",
    "id": "zc95bdwOW_JT"
   },
   "outputs": [],
   "source": [
    "learn.save('3_2');"
   ]
  },
  {
   "cell_type": "code",
   "execution_count": null,
   "metadata": {
    "colab": {},
    "colab_type": "code",
    "id": "JCck84nUVtCJ"
   },
   "outputs": [],
   "source": [
    "!mkdir -p ./drive/My\\ Drive/Code/\n",
    "!cp ./models/3_2.pth ./drive/My\\ Drive/"
   ]
  },
  {
   "cell_type": "code",
   "execution_count": null,
   "metadata": {
    "colab": {},
    "colab_type": "code",
    "id": "t-F8VcJsDsCH"
   },
   "outputs": [],
   "source": [
    "learn = learn.load('3_2')"
   ]
  },
  {
   "cell_type": "code",
   "execution_count": null,
   "metadata": {
    "colab": {
     "base_uri": "https://localhost:8080/",
     "height": 6046
    },
    "colab_type": "code",
    "id": "uT6lZDWuXU9Y",
    "outputId": "a8d0ab10-b04b-43b9-c434-66fdab2331b2"
   },
   "outputs": [],
   "source": [
    "learn.show_results(rows=24)"
   ]
  },
  {
   "cell_type": "markdown",
   "metadata": {
    "colab_type": "text",
    "id": "2AhvonM5bigh"
   },
   "source": [
    "# Go big - full size of an image"
   ]
  },
  {
   "cell_type": "code",
   "execution_count": null,
   "metadata": {
    "colab": {},
    "colab_type": "code",
    "id": "yz5QnCk2bnBR"
   },
   "outputs": [],
   "source": [
    "!mkdir -p models\n",
    "!cp ./drive/My\\ Drive/Code/Mateusz/stage-1.pth ./models/stage-1.pth "
   ]
  },
  {
   "cell_type": "code",
   "execution_count": null,
   "metadata": {
    "colab": {},
    "colab_type": "code",
    "id": "VW4JUH-6XBHP"
   },
   "outputs": [],
   "source": [
    "size = src_size\n",
    "bs = 5"
   ]
  },
  {
   "cell_type": "code",
   "execution_count": null,
   "metadata": {
    "colab": {},
    "colab_type": "code",
    "id": "Hc57E-J7XOsF"
   },
   "outputs": [],
   "source": [
    "data = (\n",
    "    src.transform(get_transforms(max_rotate=5., max_lighting=0, p_lighting=0), size=size, tfm_y=True)\n",
    "    .databunch(bs=bs)\n",
    "    .normalize(imagenet_stats)\n",
    ")"
   ]
  },
  {
   "cell_type": "code",
   "execution_count": null,
   "metadata": {
    "colab": {},
    "colab_type": "code",
    "id": "p9koKnEoXjAW"
   },
   "outputs": [],
   "source": [
    "learn = unet_learner(\n",
    "    data, models.resnet34, metrics=metrics, self_attention=True,\n",
    ")"
   ]
  },
  {
   "cell_type": "code",
   "execution_count": null,
   "metadata": {
    "colab": {},
    "colab_type": "code",
    "id": "iYQB3W1fXl9U"
   },
   "outputs": [],
   "source": [
    "learn.load('stage-1');"
   ]
  },
  {
   "cell_type": "code",
   "execution_count": null,
   "metadata": {
    "colab": {
     "base_uri": "https://localhost:8080/",
     "height": 453
    },
    "colab_type": "code",
    "id": "em1Masn3Xob1",
    "outputId": "99832a66-f512-4809-d346-47b0042deba6"
   },
   "outputs": [],
   "source": [
    "lr_find(learn)\n",
    "learn.recorder.plot()"
   ]
  },
  {
   "cell_type": "code",
   "execution_count": null,
   "metadata": {
    "colab": {},
    "colab_type": "code",
    "id": "jbmqD3uLagIN"
   },
   "outputs": [],
   "source": [
    "lr=1e-5"
   ]
  },
  {
   "cell_type": "code",
   "execution_count": null,
   "metadata": {
    "colab": {
     "base_uri": "https://localhost:8080/",
     "height": 544
    },
    "colab_type": "code",
    "id": "glBDjjZsf3Pe",
    "outputId": "5a4f164e-142f-45eb-935d-6f5411ef099f"
   },
   "outputs": [],
   "source": [
    "learn.fit_one_cycle(3, slice(lr))"
   ]
  },
  {
   "cell_type": "code",
   "execution_count": null,
   "metadata": {
    "colab": {},
    "colab_type": "code",
    "id": "hRBSdIHlf7Ft"
   },
   "outputs": [],
   "source": [
    "learn.save('stage-1-big')"
   ]
  },
  {
   "cell_type": "code",
   "execution_count": null,
   "metadata": {
    "colab": {
     "base_uri": "https://localhost:8080/",
     "height": 1279
    },
    "colab_type": "code",
    "id": "j3belvjtlqdW",
    "outputId": "c9cf48cb-ad31-4d13-e204-864a815ebd39"
   },
   "outputs": [],
   "source": [
    "learn.show_results()"
   ]
  },
  {
   "cell_type": "code",
   "execution_count": null,
   "metadata": {
    "colab": {},
    "colab_type": "code",
    "id": "RxfjgByKvphx"
   },
   "outputs": [],
   "source": [
    "!cp ./models/stage-1-big.pth ./drive/My\\ Drive/"
   ]
  },
  {
   "cell_type": "code",
   "execution_count": null,
   "metadata": {
    "colab": {},
    "colab_type": "code",
    "id": "pvc5fiTsgCTe"
   },
   "outputs": [],
   "source": [
    "learn.load('stage-1-big');"
   ]
  },
  {
   "cell_type": "code",
   "execution_count": null,
   "metadata": {
    "colab": {},
    "colab_type": "code",
    "id": "FZEgZFvRgFyo"
   },
   "outputs": [],
   "source": [
    "learn.unfreeze()"
   ]
  },
  {
   "cell_type": "code",
   "execution_count": null,
   "metadata": {
    "colab": {},
    "colab_type": "code",
    "id": "cIdkalulgJiX"
   },
   "outputs": [],
   "source": [
    "lrs = slice(1e-6,1e-4)"
   ]
  },
  {
   "cell_type": "code",
   "execution_count": null,
   "metadata": {
    "colab": {
     "base_uri": "https://localhost:8080/",
     "height": 238
    },
    "colab_type": "code",
    "id": "sFLMnMlxgR6S",
    "outputId": "e68b451a-3456-4f99-a5bb-4266198981d3"
   },
   "outputs": [],
   "source": [
    "learn.fit_one_cycle(10, lrs, wd=1e-3)"
   ]
  },
  {
   "cell_type": "code",
   "execution_count": null,
   "metadata": {
    "colab": {},
    "colab_type": "code",
    "id": "i2oELGY7gVFH"
   },
   "outputs": [],
   "source": [
    "learn.save('stage-2-big')"
   ]
  },
  {
   "cell_type": "code",
   "execution_count": null,
   "metadata": {
    "colab": {},
    "colab_type": "code",
    "id": "Lmr2O8HKgXbv"
   },
   "outputs": [],
   "source": [
    "learn.load('stage-2-big')"
   ]
  },
  {
   "cell_type": "code",
   "execution_count": null,
   "metadata": {
    "colab": {
     "base_uri": "https://localhost:8080/",
     "height": 653
    },
    "colab_type": "code",
    "id": "N-kVQ7Htgacl",
    "outputId": "4fb045d8-296d-4d8d-f211-20ca2225b170"
   },
   "outputs": [],
   "source": [
    "learn.show_results()"
   ]
  },
  {
   "cell_type": "code",
   "execution_count": null,
   "metadata": {
    "colab": {},
    "colab_type": "code",
    "id": "GWjlQN99gbZj"
   },
   "outputs": [],
   "source": [
    "!cp ./models/stage-2-big.pth ./drive/My\\ Drive/"
   ]
  }
 ],
 "metadata": {
  "accelerator": "GPU",
  "colab": {
   "collapsed_sections": [],
   "name": "U-Net.ipynb",
   "provenance": [],
   "toc_visible": true,
   "version": "0.3.2"
  },
  "kernelspec": {
   "display_name": "Python 3",
   "language": "python",
   "name": "python3"
  },
  "language_info": {
   "codemirror_mode": {
    "name": "ipython",
    "version": 3
   },
   "file_extension": ".py",
   "mimetype": "text/x-python",
   "name": "python",
   "nbconvert_exporter": "python",
   "pygments_lexer": "ipython3",
   "version": "3.6.5"
  }
 },
 "nbformat": 4,
 "nbformat_minor": 1
}
